{
 "cells": [
  {
   "cell_type": "code",
   "execution_count": null,
   "metadata": {},
   "outputs": [],
   "source": [
    "import os\n",
    "\n",
    "# Klasördeki tüm dosyaları listele\n",
    "directory = os.getcwd() + \"\\labels\"\n",
    "\n",
    "# Tüm dosyaları oku\n",
    "for filename in os.listdir(directory):\n",
    "    if filename.endswith(\".txt\"):\n",
    "        # \"_jpg.rf.\" kısmına göre bölüp ilk kısmı alarak yeni dosya adı oluştur\n",
    "        new_name = filename.split(\"_jpg.rf.\")[0] + \".txt\"\n",
    "        # Dosyanın tam yolunu oluştur\n",
    "        old_file = os.path.join(directory, filename)\n",
    "        new_file = os.path.join(directory, new_name)\n",
    "        # Dosyayı yeniden adlandır\n",
    "        os.rename(old_file, new_file)\n",
    "        print(f\"Renamed: {filename} -> {new_name}\")"
   ]
  }
 ],
 "metadata": {
  "language_info": {
   "name": "python"
  }
 },
 "nbformat": 4,
 "nbformat_minor": 2
}
