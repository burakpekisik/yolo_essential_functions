{
 "cells": [
  {
   "cell_type": "code",
   "execution_count": null,
   "metadata": {},
   "outputs": [],
   "source": [
    "import os\n",
    "\n",
    "# Klasör yollarını tanımlıyoruz\n",
    "images_folder = './images'\n",
    "labels_folder = './labels'\n",
    "\n",
    "# .jpg dosyalarını images klasöründen alıyoruz\n",
    "image_files = [f for f in os.listdir(images_folder) if f.endswith('.jpg')]\n",
    "\n",
    "# Her image dosyası için ilgili .txt dosyasının olup olmadığını kontrol ediyoruz\n",
    "for image_file in image_files:\n",
    "    # Dosya adından uzantıyı kaldırıyoruz\n",
    "    base_name = os.path.splitext(image_file)[0]\n",
    "    \n",
    "    # Buna göre labels klasöründe .txt dosyasının yolunu oluşturuyoruz\n",
    "    txt_file_path = os.path.join(labels_folder, f'{base_name}.txt')\n",
    "    \n",
    "    # Eğer .txt dosyası yoksa, oluşturuyoruz\n",
    "    if not os.path.exists(txt_file_path):\n",
    "        print(f'{txt_file_path} dosyası bulunamadı, oluşturuluyor...')\n",
    "        open(txt_file_path, 'w').close()  # Boş bir .txt dosyası oluşturur\n",
    "    else:\n",
    "        print(f'{txt_file_path} zaten mevcut.')"
   ]
  }
 ],
 "metadata": {
  "language_info": {
   "name": "python"
  }
 },
 "nbformat": 4,
 "nbformat_minor": 2
}
