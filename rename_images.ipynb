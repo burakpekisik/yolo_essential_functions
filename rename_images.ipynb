{
 "cells": [
  {
   "cell_type": "code",
   "execution_count": null,
   "metadata": {},
   "outputs": [],
   "source": [
    "import os\n",
    "\n",
    "# jpg dosyalarının bulunduğu klasörün yolu\n",
    "directory = os.getcwd() + \"\\images\"\n",
    "\n",
    "# Tüm dosyaları oku\n",
    "for filename in os.listdir(directory):\n",
    "    if filename.endswith(\".jpg\"):\n",
    "        # \"jpg\" ifadesinden sonra gelen kısmı kaldır\n",
    "        new_name = filename.split(\"_jpg\")[0] + \".jpg\"\n",
    "        # Dosyanın tam yolunu oluştur\n",
    "        old_file = os.path.join(directory, filename)\n",
    "        new_file = os.path.join(directory, new_name)\n",
    "        # Dosyayı yeniden adlandır\n",
    "        os.rename(old_file, new_file)\n",
    "        print(f\"Renamed: {filename} -> {new_name}\")\n"
   ]
  }
 ],
 "metadata": {
  "language_info": {
   "name": "python"
  }
 },
 "nbformat": 4,
 "nbformat_minor": 2
}
